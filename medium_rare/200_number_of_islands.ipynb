{
  "nbformat": 4,
  "nbformat_minor": 0,
  "metadata": {
    "colab": {
      "name": "200-number-of-islands",
      "version": "0.3.2",
      "provenance": [],
      "collapsed_sections": [],
      "include_colab_link": true
    },
    "kernelspec": {
      "name": "python3",
      "display_name": "Python 3"
    }
  },
  "cells": [
    {
      "cell_type": "markdown",
      "metadata": {
        "id": "view-in-github",
        "colab_type": "text"
      },
      "source": [
        "<a href=\"https://colab.research.google.com/github/liang42hao/TttT/blob/master/medium_rare/200_number_of_islands.ipynb\" target=\"_parent\"><img src=\"https://colab.research.google.com/assets/colab-badge.svg\" alt=\"Open In Colab\"/></a>"
      ]
    },
    {
      "cell_type": "markdown",
      "metadata": {
        "id": "CBywqAntbbcQ",
        "colab_type": "text"
      },
      "source": [
        "##200. Number of Islands\n",
        "\n",
        "\n",
        "Given a 2d grid map of `'1'`s (land) and `'0'`s (water), count the number of islands. An island is surrounded by water and is formed by connecting adjacent lands horizontally or vertically. You may assume all four edges of the grid are all surrounded by water.\n",
        "\n"
      ]
    },
    {
      "cell_type": "markdown",
      "metadata": {
        "id": "H8i3MJKbdX6u",
        "colab_type": "text"
      },
      "source": [
        "**Example 1:**\n",
        "```\n",
        "Input:\n",
        "11110\n",
        "11010\n",
        "11000\n",
        "00000\n",
        "\n",
        "Output: 1\n",
        "\n",
        "```"
      ]
    },
    {
      "cell_type": "markdown",
      "metadata": {
        "id": "ELbCe5t3duts",
        "colab_type": "text"
      },
      "source": [
        "**Example 2:**\n",
        "```\n",
        "Input:\n",
        "11000\n",
        "11000\n",
        "00100\n",
        "00011\n",
        "\n",
        "Output: 3\n",
        "```"
      ]
    },
    {
      "cell_type": "code",
      "metadata": {
        "id": "WLqIY0Z4d3FT",
        "colab_type": "code",
        "colab": {}
      },
      "source": [
        "class Solution(object):\n",
        "    def numIslands(self, grid):\n",
        "        \"\"\"\n",
        "        :type grid: List[List[str]]\n",
        "        :rtype: int\n",
        "        \"\"\"\n",
        "        "
      ],
      "execution_count": 0,
      "outputs": []
    }
  ]
}